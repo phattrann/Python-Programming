{
 "cells": [
  {
   "cell_type": "code",
   "execution_count": 2,
   "metadata": {},
   "outputs": [
    {
     "name": "stdout",
     "output_type": "stream",
     "text": [
      "Please enter your message I am so good at shooting billard\n",
      "Please enter your letter o\n"
     ]
    }
   ],
   "source": [
    "user_message = input(\"Please enter your message \")\n",
    "user_letter = input(\"Please enter your letter \")"
   ]
  },
  {
   "cell_type": "code",
   "execution_count": 3,
   "metadata": {},
   "outputs": [
    {
     "name": "stdout",
     "output_type": "stream",
     "text": [
      "5\n"
     ]
    }
   ],
   "source": [
    "count = user_message.count(user_letter)\n",
    "print(count)"
   ]
  },
  {
   "cell_type": "code",
   "execution_count": 4,
   "metadata": {},
   "outputs": [
    {
     "name": "stdout",
     "output_type": "stream",
     "text": [
      "15.625\n"
     ]
    }
   ],
   "source": [
    "len_message = len(user_message)\n",
    "percent = count/len_message * 100\n",
    "print(percent)"
   ]
  },
  {
   "cell_type": "code",
   "execution_count": 6,
   "metadata": {},
   "outputs": [
    {
     "name": "stdout",
     "output_type": "stream",
     "text": [
      "The message is I am so good at shooting billard\n",
      "Percentage of the letter o is 15.625\n",
      "The number of the letter o is 5\n"
     ]
    }
   ],
   "source": [
    "print(f\"The message is {user_message}\")\n",
    "print(f\"Percentage of the letter {user_letter} is\", percent)\n",
    "print(f\"The number of the letter {user_letter} is\", count)"
   ]
  }
 ],
 "metadata": {
  "kernelspec": {
   "display_name": "Python 3",
   "language": "python",
   "name": "python3"
  },
  "language_info": {
   "codemirror_mode": {
    "name": "ipython",
    "version": 3
   },
   "file_extension": ".py",
   "mimetype": "text/x-python",
   "name": "python",
   "nbconvert_exporter": "python",
   "pygments_lexer": "ipython3",
   "version": "3.8.8"
  }
 },
 "nbformat": 4,
 "nbformat_minor": 4
}
