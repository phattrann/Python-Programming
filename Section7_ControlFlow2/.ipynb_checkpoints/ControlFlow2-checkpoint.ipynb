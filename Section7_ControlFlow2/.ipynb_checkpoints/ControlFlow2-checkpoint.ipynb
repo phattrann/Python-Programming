{
 "cells": [
  {
   "cell_type": "markdown",
   "metadata": {},
   "source": [
    "# 1. Break Statement"
   ]
  },
  {
   "cell_type": "code",
   "execution_count": 2,
   "metadata": {},
   "outputs": [
    {
     "name": "stdout",
     "output_type": "stream",
     "text": [
      "1\n",
      "2\n",
      "3\n",
      "stop\n"
     ]
    }
   ],
   "source": [
    "lists = [1,2,3, \"stop\", 5, \"stop\", 4.1]\n",
    "for element in lists:\n",
    "    print(element)\n",
    "    if element == \"stop\":\n",
    "        break"
   ]
  },
  {
   "cell_type": "code",
   "execution_count": 3,
   "metadata": {},
   "outputs": [
    {
     "name": "stdout",
     "output_type": "stream",
     "text": [
      "1\n",
      "2\n",
      "3\n",
      "stop\n"
     ]
    }
   ],
   "source": [
    "index = 0\n",
    "while index < len(lists):\n",
    "    element = lists[index]\n",
    "    print(element)\n",
    "    if element == \"stop\":\n",
    "        break\n",
    "    index += 1"
   ]
  },
  {
   "cell_type": "markdown",
   "metadata": {},
   "source": [
    "# 2. Continue Statement"
   ]
  },
  {
   "cell_type": "code",
   "execution_count": 1,
   "metadata": {},
   "outputs": [
    {
     "name": "stdout",
     "output_type": "stream",
     "text": [
      "1\n",
      "3.1\n",
      "5\n",
      "2\n"
     ]
    }
   ],
   "source": [
    "lists = [1, 3.1 ,'stop', 5 ,'stop','stop','stop', 'stop', 2]\n",
    "for i in lists:\n",
    "    if i == \"stop\":\n",
    "        continue\n",
    "    print(i)"
   ]
  },
  {
   "cell_type": "code",
   "execution_count": null,
   "metadata": {},
   "outputs": [],
   "source": [
    "counter = 3\n",
    "while counter <= 6:\n",
    "    print(counter)\n",
    "    if counter == 1:\n",
    "        continue\n",
    "        print(\"found\")\n",
    "    counter -=1\n",
    "# infinite 1"
   ]
  },
  {
   "cell_type": "markdown",
   "metadata": {},
   "source": [
    "# 3. Zip Function"
   ]
  },
  {
   "cell_type": "code",
   "execution_count": 8,
   "metadata": {},
   "outputs": [],
   "source": [
    "list1 = [1,2,3] # iterable\n",
    "list2 = [5,1,4] # iterable\n",
    "zip_list = zip(list1, list2) ## it's now an object\n",
    "#print(list(zip_list)[0]) ## seperate into tuples"
   ]
  },
  {
   "cell_type": "code",
   "execution_count": 9,
   "metadata": {
    "scrolled": true
   },
   "outputs": [
    {
     "name": "stdout",
     "output_type": "stream",
     "text": [
      "1 5\n",
      "2 1\n",
      "3 4\n"
     ]
    }
   ],
   "source": [
    "for i,j in zip_list:\n",
    "    print(i,j)"
   ]
  },
  {
   "cell_type": "code",
   "execution_count": 1,
   "metadata": {},
   "outputs": [
    {
     "name": "stdout",
     "output_type": "stream",
     "text": [
      "{1: 5, 2: 1, 3: 4}\n"
     ]
    }
   ],
   "source": [
    "list1 = [1,2,3]\n",
    "list2 = [5,1,4]\n",
    "dictlist = dict(zip(list1,list2))\n",
    "print(dictlist)"
   ]
  },
  {
   "cell_type": "markdown",
   "metadata": {},
   "source": [
    "# 4. Enumerate Function"
   ]
  },
  {
   "cell_type": "code",
   "execution_count": 24,
   "metadata": {},
   "outputs": [
    {
     "name": "stdout",
     "output_type": "stream",
     "text": [
      "[(0, 1), (1, 2), (2, 's')]\n",
      "2 0\n",
      "3 1\n",
      "5 2\n"
     ]
    }
   ],
   "source": [
    "list1 = [1, 2, 's']\n",
    "list2 = [2, 3, 5]\n",
    "print(list(enumerate(list1)))\n",
    "\n",
    "en_lists = enumerate(list2)\n",
    "for counter , current_element in en_lists:\n",
    "    print(current_element, counter)  "
   ]
  },
  {
   "cell_type": "code",
   "execution_count": 10,
   "metadata": {},
   "outputs": [
    {
     "name": "stdout",
     "output_type": "stream",
     "text": [
      "['Rachael Green $10260', 'Goodfellow Ian $41571', 'Tedd Crock $71211', 'Mina Joseph $52141']\n"
     ]
    }
   ],
   "source": [
    "names = [ \"Rachael Green\", \"Goodfellow Ian\", \"Tedd Crock\", \"Mina Joseph\"]\n",
    "salaries = [10260 , 41571 , 71211 , 52141 , 35781]\n",
    "people_salaries = []\n",
    " \n",
    "for i , j in enumerate(names):\n",
    "    x = j + \" $\" + str(salaries[i])\n",
    "    people_salaries.append(x)\n",
    "print(people_salaries)"
   ]
  },
  {
   "cell_type": "markdown",
   "metadata": {},
   "source": [
    "# 5. List Comprehension"
   ]
  },
  {
   "cell_type": "code",
   "execution_count": 26,
   "metadata": {},
   "outputs": [
    {
     "name": "stdout",
     "output_type": "stream",
     "text": [
      "[0, 1, 2, 3, 4]\n"
     ]
    }
   ],
   "source": [
    "lists = []\n",
    "for i in range(5):\n",
    "    lists.append(i)\n",
    "print(lists)"
   ]
  },
  {
   "cell_type": "code",
   "execution_count": 28,
   "metadata": {},
   "outputs": [
    {
     "name": "stdout",
     "output_type": "stream",
     "text": [
      "[0, 1, 2, 3, 4]\n"
     ]
    }
   ],
   "source": [
    "lists = [i for i in range(5)]\n",
    "print(lists)"
   ]
  },
  {
   "cell_type": "code",
   "execution_count": 30,
   "metadata": {},
   "outputs": [],
   "source": [
    "string = \"joe cor\""
   ]
  },
  {
   "cell_type": "code",
   "execution_count": 33,
   "metadata": {},
   "outputs": [
    {
     "name": "stdout",
     "output_type": "stream",
     "text": [
      "joe\n"
     ]
    }
   ],
   "source": [
    "lists = list(string.split(\" \"))\n",
    "print(lists[0])"
   ]
  },
  {
   "cell_type": "code",
   "execution_count": 46,
   "metadata": {},
   "outputs": [
    {
     "name": "stdout",
     "output_type": "stream",
     "text": [
      "['Joel', 'James', 'Lily']\n"
     ]
    }
   ],
   "source": [
    "students_dict = { \n",
    "                    \"Joel Corry\" : 70,\n",
    "                    \"James Bond\" : 90,\n",
    "                    \"Fatma Ahmed\": 20,\n",
    "                    \"Lily Saqr\"  : 94,\n",
    "                    \"Ahmed Yan\"  : 40,\n",
    "                }\n",
    "\n",
    "list1 = [key[0].split()[0] for key in students_dict.items() if key[1] > 50]\n",
    "print(list1)"
   ]
  }
 ],
 "metadata": {
  "kernelspec": {
   "display_name": "Python 3",
   "language": "python",
   "name": "python3"
  },
  "language_info": {
   "codemirror_mode": {
    "name": "ipython",
    "version": 3
   },
   "file_extension": ".py",
   "mimetype": "text/x-python",
   "name": "python",
   "nbconvert_exporter": "python",
   "pygments_lexer": "ipython3",
   "version": "3.8.3"
  }
 },
 "nbformat": 4,
 "nbformat_minor": 4
}
