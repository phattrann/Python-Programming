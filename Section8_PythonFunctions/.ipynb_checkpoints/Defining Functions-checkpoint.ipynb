{
 "cells": [
  {
   "cell_type": "markdown",
   "metadata": {},
   "source": [
    "# 1. Define"
   ]
  },
  {
   "cell_type": "code",
   "execution_count": 1,
   "metadata": {},
   "outputs": [],
   "source": [
    "def multiply(number1, number2 = 3):\n",
    "    res = number1 * number2\n",
    "    return res"
   ]
  },
  {
   "cell_type": "code",
   "execution_count": 4,
   "metadata": {
    "scrolled": true
   },
   "outputs": [
    {
     "name": "stdout",
     "output_type": "stream",
     "text": [
      "24\n"
     ]
    }
   ],
   "source": [
    "# Missing arguments if the function does not have optional value for number 2 \n",
    "# kq = multiply(4) \n",
    "kq = multiply(4,6)\n",
    "print(kq)"
   ]
  },
  {
   "cell_type": "markdown",
   "metadata": {},
   "source": [
    "**Get Dict from 2 Lists**"
   ]
  },
  {
   "cell_type": "code",
   "execution_count": 6,
   "metadata": {
    "scrolled": true
   },
   "outputs": [
    {
     "name": "stdout",
     "output_type": "stream",
     "text": [
      "{'Micheal Ford': 80, 'John Buch': 53, 'Isra Raul': 90, 'Messi Ronaldo': 100}\n"
     ]
    }
   ],
   "source": [
    "students_names = [ \"Micheal Ford\", \"John Buch\" , \"Isra Raul\", \"Messi Ronaldo\"]\n",
    "\n",
    "students_grades = [ 80 , 53 , 90 , 100]\n",
    "\n",
    "def link_names_grades(students_names, students_grades):\n",
    "    return dict(zip(students_names, students_grades))\n",
    "names_grades = link_names_grades(students_names, students_grades)\n",
    "print(names_grades)"
   ]
  },
  {
   "cell_type": "markdown",
   "metadata": {},
   "source": [
    "**Other way to dict (without zip function)** "
   ]
  },
  {
   "cell_type": "code",
   "execution_count": 7,
   "metadata": {},
   "outputs": [],
   "source": [
    "def others(x,y):\n",
    "    names_grades = {}\n",
    "    for i,j in zip(x,y):\n",
    "        names_grades[i] = j\n",
    "    return names_grades"
   ]
  },
  {
   "cell_type": "code",
   "execution_count": 9,
   "metadata": {},
   "outputs": [
    {
     "name": "stdout",
     "output_type": "stream",
     "text": [
      "{'Micheal Ford': 80, 'John Buch': 53, 'Isra Raul': 90, 'Messi Ronaldo': 100}\n"
     ]
    }
   ],
   "source": [
    "names = others(students_names, students_grades)\n",
    "print(names)"
   ]
  },
  {
   "cell_type": "code",
   "execution_count": 8,
   "metadata": {},
   "outputs": [
    {
     "name": "stdout",
     "output_type": "stream",
     "text": [
      "[17, 13]\n"
     ]
    }
   ],
   "source": [
    "numbers = [10, 20 , 17 , 13 ]\n",
    "even_or_odd = True\n",
    "\n",
    "def filter_even_odd(numbers , even_or_odd):\n",
    "    filtered_list  = []\n",
    "    for i in numbers:\n",
    "        if i % 2 == even_or_odd:\n",
    "            filtered_list.append(i)\n",
    "    return filtered_list\n",
    "\n",
    "list1 = filter_even_odd(numbers, even_or_odd)\n",
    "print(list1)"
   ]
  },
  {
   "cell_type": "code",
   "execution_count": 14,
   "metadata": {
    "scrolled": true
   },
   "outputs": [
    {
     "name": "stdout",
     "output_type": "stream",
     "text": [
      "Y\n"
     ]
    }
   ],
   "source": [
    "i = 3 \n",
    "if i % 2 == True:\n",
    "    print(\"Y\")\n",
    "else:\n",
    "    print(\"N\")"
   ]
  },
  {
   "cell_type": "markdown",
   "metadata": {},
   "source": [
    "# 2. Variable Scope\n",
    "## 2.1 Local Variable\n",
    "## 2.2 Global Variable"
   ]
  },
  {
   "cell_type": "code",
   "execution_count": 16,
   "metadata": {},
   "outputs": [],
   "source": [
    "res = 5\n",
    "def mul(s1,s2):\n",
    "    global res \n",
    "    res = s1 * s2\n",
    "    return res"
   ]
  },
  {
   "cell_type": "code",
   "execution_count": 17,
   "metadata": {},
   "outputs": [
    {
     "name": "stdout",
     "output_type": "stream",
     "text": [
      "2\n"
     ]
    }
   ],
   "source": [
    "print(mul(1,2))"
   ]
  },
  {
   "cell_type": "code",
   "execution_count": 18,
   "metadata": {},
   "outputs": [
    {
     "name": "stdout",
     "output_type": "stream",
     "text": [
      "2\n"
     ]
    }
   ],
   "source": [
    "print(res)"
   ]
  },
  {
   "cell_type": "markdown",
   "metadata": {},
   "source": [
    "# 3. Docstrings"
   ]
  },
  {
   "cell_type": "code",
   "execution_count": 19,
   "metadata": {},
   "outputs": [],
   "source": [
    "def multi(s1,s2):\n",
    "    '''This is doctrings,\n",
    "    we can use multiple docstrings\n",
    "    to describe what we are doing \n",
    "    in a complex function'''\n",
    "    print(\"ok\")"
   ]
  }
 ],
 "metadata": {
  "kernelspec": {
   "display_name": "Python 3",
   "language": "python",
   "name": "python3"
  },
  "language_info": {
   "codemirror_mode": {
    "name": "ipython",
    "version": 3
   },
   "file_extension": ".py",
   "mimetype": "text/x-python",
   "name": "python",
   "nbconvert_exporter": "python",
   "pygments_lexer": "ipython3",
   "version": "3.8.3"
  }
 },
 "nbformat": 4,
 "nbformat_minor": 4
}
